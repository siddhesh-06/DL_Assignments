{
 "cells": [
  {
   "cell_type": "code",
   "execution_count": 17,
   "id": "6f9a197d",
   "metadata": {},
   "outputs": [],
   "source": [
    "import matplotlib.pyplot as plt\n",
    "import tensorflow as ts\n",
    "from sklearn.metrics import classification_report\n",
    "from tensorflow.keras.models import Sequential\n",
    "from sklearn.preprocessing import LabelBinarizer\n",
    "from tensorflow.keras import layers, datasets, optimizers"
   ]
  },
  {
   "cell_type": "code",
   "execution_count": 2,
   "id": "a987e04e",
   "metadata": {},
   "outputs": [
    {
     "data": {
      "text/plain": [
       "(50000, 32, 32, 3)"
      ]
     },
     "execution_count": 2,
     "metadata": {},
     "output_type": "execute_result"
    }
   ],
   "source": [
    "((X_train, Y_train), (X_test, Y_test)) = datasets.cifar10.load_data()\n",
    "\n",
    "X_train = X_train/255.0 \n",
    "X_test = X_test/255.0\n",
    "\n",
    "X_train.shape"
   ]
  },
  {
   "cell_type": "code",
   "execution_count": 3,
   "id": "e86bd868",
   "metadata": {},
   "outputs": [
    {
     "data": {
      "text/plain": [
       "(50000, 3072)"
      ]
     },
     "execution_count": 3,
     "metadata": {},
     "output_type": "execute_result"
    }
   ],
   "source": [
    "# Preprosessing\n",
    "X_train = X_train.reshape((X_train.shape[0], 32 * 32 * 3))\n",
    "X_test = X_test.reshape((X_test.shape[0], 32 * 32 * 3))\n",
    "\n",
    "X_train.shape"
   ]
  },
  {
   "cell_type": "code",
   "execution_count": 5,
   "id": "7f2136bf",
   "metadata": {},
   "outputs": [],
   "source": [
    "lb = LabelBinarizer()\n",
    "\n",
    "Y_train = lb.fit_transform(Y_train)\n",
    "Y_test = lb.transform(Y_test)"
   ]
  },
  {
   "cell_type": "code",
   "execution_count": 13,
   "id": "6921e665",
   "metadata": {},
   "outputs": [],
   "source": [
    "model = Sequential()\n",
    "\n",
    "model.add(layers.Dense(128,input_shape=(3072,), activation=\"sigmoid\"))\n",
    "model.add(layers.Dense(64, activation=\"sigmoid\"))\n",
    "model.add(layers.Dense(10, activation=\"softmax\"))"
   ]
  },
  {
   "cell_type": "code",
   "execution_count": 14,
   "id": "5c1e39b6",
   "metadata": {},
   "outputs": [
    {
     "name": "stdout",
     "output_type": "stream",
     "text": [
      "Epoch 1/2\n",
      "391/391 [==============================] - 4s 8ms/step - loss: 2.2942 - accuracy: 0.1542 - val_loss: 2.2762 - val_accuracy: 0.2129\n",
      "Epoch 2/2\n",
      "391/391 [==============================] - 2s 6ms/step - loss: 2.2632 - accuracy: 0.2174 - val_loss: 2.2488 - val_accuracy: 0.2462\n"
     ]
    }
   ],
   "source": [
    "sgd = optimizers.SGD(0.01)\n",
    "epochs = 2\n",
    "model.compile(loss=\"categorical_crossentropy\", optimizer=sgd, metrics=[\"accuracy\"])\n",
    "H = model.fit(X_train, Y_train, validation_data=(X_test, Y_test), epochs=epochs, batch_size=128)"
   ]
  },
  {
   "cell_type": "code",
   "execution_count": 15,
   "id": "2f6cdf66",
   "metadata": {},
   "outputs": [
    {
     "name": "stdout",
     "output_type": "stream",
     "text": [
      "Model: \"sequential_2\"\n",
      "_________________________________________________________________\n",
      " Layer (type)                Output Shape              Param #   \n",
      "=================================================================\n",
      " dense_3 (Dense)             (None, 128)               393344    \n",
      "                                                                 \n",
      " dense_4 (Dense)             (None, 64)                8256      \n",
      "                                                                 \n",
      " dense_5 (Dense)             (None, 10)                650       \n",
      "                                                                 \n",
      "=================================================================\n",
      "Total params: 402,250\n",
      "Trainable params: 402,250\n",
      "Non-trainable params: 0\n",
      "_________________________________________________________________\n"
     ]
    }
   ],
   "source": [
    "model.summary()"
   ]
  },
  {
   "cell_type": "code",
   "execution_count": 18,
   "id": "6aac5d19",
   "metadata": {},
   "outputs": [
    {
     "name": "stdout",
     "output_type": "stream",
     "text": [
      "79/79 [==============================] - 0s 3ms/step\n",
      "              precision    recall  f1-score   support\n",
      "\n",
      "           0       0.31      0.49      0.38      1000\n",
      "           1       0.23      0.22      0.22      1000\n",
      "           2       0.00      0.00      0.00      1000\n",
      "           3       0.15      0.14      0.14      1000\n",
      "           4       0.19      0.07      0.10      1000\n",
      "           5       0.34      0.22      0.26      1000\n",
      "           6       0.18      0.55      0.27      1000\n",
      "           7       0.40      0.02      0.04      1000\n",
      "           8       0.37      0.35      0.36      1000\n",
      "           9       0.29      0.42      0.34      1000\n",
      "\n",
      "    accuracy                           0.25     10000\n",
      "   macro avg       0.24      0.25      0.21     10000\n",
      "weighted avg       0.24      0.25      0.21     10000\n",
      "\n"
     ]
    }
   ],
   "source": [
    "pred = model.predict(X_test, batch_size=128)\n",
    "print(classification_report(Y_test.argmax(axis=1), pred.argmax(axis=1), target_names=[str(x) for x in lb.classes_]))"
   ]
  },
  {
   "cell_type": "code",
   "execution_count": null,
   "id": "affe47f5",
   "metadata": {},
   "outputs": [],
   "source": [
    "#plot loss, accuracy"
   ]
  }
 ],
 "metadata": {
  "kernelspec": {
   "display_name": "Python 3",
   "language": "python",
   "name": "python3"
  },
  "language_info": {
   "codemirror_mode": {
    "name": "ipython",
    "version": 3
   },
   "file_extension": ".py",
   "mimetype": "text/x-python",
   "name": "python",
   "nbconvert_exporter": "python",
   "pygments_lexer": "ipython3",
   "version": "3.8.8"
  }
 },
 "nbformat": 4,
 "nbformat_minor": 5
}
