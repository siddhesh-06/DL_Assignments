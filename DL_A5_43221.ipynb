{
 "cells": [
  {
   "cell_type": "markdown",
   "metadata": {
    "id": "i_GcJlVrDgBk"
   },
   "source": [
    "Name: **Siddhesh Dhainje**<br>\n",
    "Div: **BE10-Q10**<br>\n",
    "Roll no: **43221**<br>\n",
    "Title: **Assignment 5: Implement the Continuous Bag of Words (CBOW) Model**<br>"
   ]
  },
  {
   "cell_type": "code",
   "execution_count": 1,
   "metadata": {
    "id": "V51q50EbF-T9"
   },
   "outputs": [],
   "source": [
    "#importing libraries\n",
    "from keras.preprocessing import text\n",
    "from keras.utils import np_utils\n",
    "from keras.preprocessing import sequence\n",
    "from keras.utils import pad_sequences\n",
    "import numpy as np\n",
    "import pandas as pd"
   ]
  },
  {
   "cell_type": "code",
   "execution_count": 5,
   "metadata": {
    "id": "wBUwYdBJElVz"
   },
   "outputs": [
    {
     "data": {
      "text/plain": [
       "['Deep',\n",
       " 'learning',\n",
       " '(also',\n",
       " 'known',\n",
       " 'as',\n",
       " 'deep',\n",
       " 'structured',\n",
       " 'learning)',\n",
       " 'is',\n",
       " 'part',\n",
       " 'of',\n",
       " 'a',\n",
       " 'broader',\n",
       " 'family',\n",
       " 'of',\n",
       " 'machine',\n",
       " 'learning',\n",
       " 'methods',\n",
       " 'based',\n",
       " 'on',\n",
       " 'artificial',\n",
       " 'neural',\n",
       " 'networks',\n",
       " 'with',\n",
       " 'representation',\n",
       " 'learning.',\n",
       " 'Learning',\n",
       " 'can',\n",
       " 'be',\n",
       " 'supervised,',\n",
       " 'semi-supervised',\n",
       " 'or',\n",
       " 'unsupervised.',\n",
       " 'Deep-learning',\n",
       " 'architectures',\n",
       " 'such',\n",
       " 'as',\n",
       " 'deep',\n",
       " 'neural',\n",
       " 'networks,',\n",
       " 'deep',\n",
       " 'belief',\n",
       " 'networks,',\n",
       " 'deep',\n",
       " 'reinforcement',\n",
       " 'learning,',\n",
       " 'recurrent',\n",
       " 'neural',\n",
       " 'networks,',\n",
       " 'convolutional',\n",
       " 'neural',\n",
       " 'networks',\n",
       " 'and',\n",
       " 'Transformers',\n",
       " 'have',\n",
       " 'been',\n",
       " 'applied',\n",
       " 'to',\n",
       " 'fields',\n",
       " 'including',\n",
       " 'computer',\n",
       " 'vision,',\n",
       " 'speech',\n",
       " 'recognition,',\n",
       " 'natural',\n",
       " 'language',\n",
       " 'processing,',\n",
       " 'machine',\n",
       " 'translation,',\n",
       " 'bioinformatics,',\n",
       " 'drug',\n",
       " 'design,',\n",
       " 'medical',\n",
       " 'image',\n",
       " 'analysis,',\n",
       " 'climate',\n",
       " 'science,',\n",
       " 'material',\n",
       " 'inspection',\n",
       " 'and',\n",
       " 'board',\n",
       " 'game',\n",
       " 'programs,',\n",
       " 'where',\n",
       " 'they',\n",
       " 'have',\n",
       " 'produced',\n",
       " 'results',\n",
       " 'comparable',\n",
       " 'to',\n",
       " 'and',\n",
       " 'in',\n",
       " 'some',\n",
       " 'cases',\n",
       " 'surpassing',\n",
       " 'human',\n",
       " 'expert',\n",
       " 'performance.']"
      ]
     },
     "execution_count": 5,
     "metadata": {},
     "output_type": "execute_result"
    }
   ],
   "source": [
    "#taking random sentences as data\n",
    "data = \"\"\"Deep learning (also known as deep structured learning) is part of a broader family of machine learning methods based on artificial neural networks with representation learning. Learning can be supervised, semi-supervised or unsupervised. \n",
    "Deep-learning architectures such as deep neural networks, deep belief networks, deep reinforcement learning, recurrent neural networks, convolutional neural networks and Transformers have been applied to fields including computer vision, speech recognition, natural language processing, machine translation, bioinformatics, drug design, medical image analysis, climate science, material inspection and board game programs, where they have produced results comparable to and in some cases surpassing human expert performance.\n",
    "\"\"\"\n",
    "dl_data = data.split()\n",
    "dl_data"
   ]
  },
  {
   "cell_type": "code",
   "execution_count": 6,
   "metadata": {
    "colab": {
     "base_uri": "https://localhost:8080/"
    },
    "id": "celNk9LmEvm8",
    "outputId": "4e2143b6-92dc-452f-f468-7c9e6238e287"
   },
   "outputs": [
    {
     "name": "stdout",
     "output_type": "stream",
     "text": [
      "Vocabulary Size: 75\n",
      "Vocabulary Sample: [('learning', 1), ('deep', 2), ('networks', 3), ('neural', 4), ('and', 5), ('as', 6), ('of', 7), ('machine', 8), ('supervised', 9), ('have', 10)]\n"
     ]
    }
   ],
   "source": [
    "#tokenization\n",
    "tokenizer = text.Tokenizer()\n",
    "tokenizer.fit_on_texts(dl_data)\n",
    "word2id = tokenizer.word_index\n",
    "\n",
    "word2id['PAD'] = 0\n",
    "id2word = {v:k for k, v in word2id.items()}\n",
    "wids = [[word2id[w] for w in text.text_to_word_sequence(doc)] for doc in dl_data]\n",
    "\n",
    "vocab_size = len(word2id)\n",
    "embed_size = 100\n",
    "window_size = 2 \n",
    "\n",
    "print('Vocabulary Size:', vocab_size)\n",
    "print('Vocabulary Sample:', list(word2id.items())[:10])"
   ]
  },
  {
   "cell_type": "code",
   "execution_count": 4,
   "metadata": {
    "id": "AAxNYDanInQC"
   },
   "outputs": [],
   "source": [
    "#generating (context word, target/label word) pairs\n",
    "def generate_context_word_pairs(corpus, window_size, vocab_size):\n",
    "    context_length = window_size*2\n",
    "    for words in corpus:\n",
    "        sentence_length = len(words)\n",
    "        for index, word in enumerate(words):\n",
    "            context_words = []\n",
    "            label_word   = []            \n",
    "            start = index - window_size\n",
    "            end = index + window_size + 1\n",
    "            \n",
    "            context_words.append([words[i] \n",
    "                                 for i in range(start, end) \n",
    "                                 if 0 <= i < sentence_length \n",
    "                                 and i != index])\n",
    "            label_word.append(word)\n",
    "\n",
    "            x = pad_sequences(context_words, maxlen=context_length)\n",
    "            y = np_utils.to_categorical(label_word, vocab_size)\n",
    "            yield (x, y)\n",
    "            \n",
    "i = 0\n",
    "for x, y in generate_context_word_pairs(corpus=wids, window_size=window_size, vocab_size=vocab_size):\n",
    "    if 0 not in x[0]:\n",
    "        # print('Context (X):', [id2word[w] for w in x[0]], '-> Target (Y):', id2word[np.argwhere(y[0])[0][0]])\n",
    "    \n",
    "        if i == 10:\n",
    "            break\n",
    "        i += 1"
   ]
  },
  {
   "cell_type": "code",
   "execution_count": 5,
   "metadata": {
    "colab": {
     "base_uri": "https://localhost:8080/"
    },
    "id": "Rb5dNmoZKZBv",
    "outputId": "b859c07e-6989-420d-b169-8aa0b93ff367"
   },
   "outputs": [
    {
     "name": "stdout",
     "output_type": "stream",
     "text": [
      "Model: \"sequential\"\n",
      "_________________________________________________________________\n",
      " Layer (type)                Output Shape              Param #   \n",
      "=================================================================\n",
      " embedding (Embedding)       (None, 4, 100)            7500      \n",
      "                                                                 \n",
      " lambda (Lambda)             (None, 100)               0         \n",
      "                                                                 \n",
      " dense (Dense)               (None, 75)                7575      \n",
      "                                                                 \n",
      "=================================================================\n",
      "Total params: 15,075\n",
      "Trainable params: 15,075\n",
      "Non-trainable params: 0\n",
      "_________________________________________________________________\n",
      "None\n"
     ]
    }
   ],
   "source": [
    "#model building\n",
    "import keras.backend as K\n",
    "from keras.models import Sequential\n",
    "from keras.layers import Dense, Embedding, Lambda\n",
    "\n",
    "cbow = Sequential()\n",
    "cbow.add(Embedding(input_dim=vocab_size, output_dim=embed_size, input_length=window_size*2))\n",
    "cbow.add(Lambda(lambda x: K.mean(x, axis=1), output_shape=(embed_size,)))\n",
    "cbow.add(Dense(vocab_size, activation='softmax'))\n",
    "cbow.compile(loss='categorical_crossentropy', optimizer='rmsprop')\n",
    "\n",
    "print(cbow.summary())\n",
    "\n",
    "# from IPython.display import SVG\n",
    "# from keras.utils.vis_utils import model_to_dot\n",
    "\n",
    "# SVG(model_to_dot(cbow, show_shapes=True, show_layer_names=False, rankdir='TB').create(prog='dot', format='svg'))"
   ]
  },
  {
   "cell_type": "code",
   "execution_count": 6,
   "metadata": {
    "colab": {
     "base_uri": "https://localhost:8080/"
    },
    "id": "xs12C3MDK1q4",
    "outputId": "fe8783b3-0ee1-4286-be40-6713afa14f9c"
   },
   "outputs": [
    {
     "name": "stdout",
     "output_type": "stream",
     "text": [
      "Epoch: 1 \tLoss: 433.9979591369629\n",
      "\n",
      "Epoch: 2 \tLoss: 429.12920451164246\n",
      "\n",
      "Epoch: 3 \tLoss: 425.6162567138672\n",
      "\n",
      "Epoch: 4 \tLoss: 422.305300951004\n",
      "\n",
      "Epoch: 5 \tLoss: 419.82955026626587\n",
      "\n"
     ]
    }
   ],
   "source": [
    "for epoch in range(1, 6):\n",
    "    loss = 0.\n",
    "    i = 0\n",
    "    for x, y in generate_context_word_pairs(corpus=wids, window_size=window_size, vocab_size=vocab_size):\n",
    "        i += 1\n",
    "        loss += cbow.train_on_batch(x, y)\n",
    "        if i % 100000 == 0:\n",
    "            print('Processed {} (context, word) pairs'.format(i))\n",
    "\n",
    "    print('Epoch:', epoch, '\\tLoss:', loss)\n",
    "    print()"
   ]
  },
  {
   "cell_type": "code",
   "execution_count": 7,
   "metadata": {
    "colab": {
     "base_uri": "https://localhost:8080/",
     "height": 253
    },
    "id": "TZ3_QGKVK6Tj",
    "outputId": "cd9d167a-85a3-4cc9-eccb-faf997526122"
   },
   "outputs": [
    {
     "name": "stdout",
     "output_type": "stream",
     "text": [
      "(74, 100)\n"
     ]
    },
    {
     "data": {
      "text/html": [
       "<div>\n",
       "<style scoped>\n",
       "    .dataframe tbody tr th:only-of-type {\n",
       "        vertical-align: middle;\n",
       "    }\n",
       "\n",
       "    .dataframe tbody tr th {\n",
       "        vertical-align: top;\n",
       "    }\n",
       "\n",
       "    .dataframe thead th {\n",
       "        text-align: right;\n",
       "    }\n",
       "</style>\n",
       "<table border=\"1\" class=\"dataframe\">\n",
       "  <thead>\n",
       "    <tr style=\"text-align: right;\">\n",
       "      <th></th>\n",
       "      <th>0</th>\n",
       "      <th>1</th>\n",
       "      <th>2</th>\n",
       "      <th>3</th>\n",
       "      <th>4</th>\n",
       "      <th>5</th>\n",
       "      <th>6</th>\n",
       "      <th>7</th>\n",
       "      <th>8</th>\n",
       "      <th>9</th>\n",
       "      <th>...</th>\n",
       "      <th>90</th>\n",
       "      <th>91</th>\n",
       "      <th>92</th>\n",
       "      <th>93</th>\n",
       "      <th>94</th>\n",
       "      <th>95</th>\n",
       "      <th>96</th>\n",
       "      <th>97</th>\n",
       "      <th>98</th>\n",
       "      <th>99</th>\n",
       "    </tr>\n",
       "  </thead>\n",
       "  <tbody>\n",
       "    <tr>\n",
       "      <th>deep</th>\n",
       "      <td>-0.051325</td>\n",
       "      <td>0.015496</td>\n",
       "      <td>-0.001289</td>\n",
       "      <td>-0.000091</td>\n",
       "      <td>0.031098</td>\n",
       "      <td>-0.004511</td>\n",
       "      <td>0.048802</td>\n",
       "      <td>0.039863</td>\n",
       "      <td>0.038735</td>\n",
       "      <td>-0.011285</td>\n",
       "      <td>...</td>\n",
       "      <td>-0.021157</td>\n",
       "      <td>-0.006114</td>\n",
       "      <td>0.014426</td>\n",
       "      <td>-0.025363</td>\n",
       "      <td>-0.001656</td>\n",
       "      <td>-0.007467</td>\n",
       "      <td>0.010676</td>\n",
       "      <td>0.054003</td>\n",
       "      <td>-0.010888</td>\n",
       "      <td>0.013069</td>\n",
       "    </tr>\n",
       "    <tr>\n",
       "      <th>networks</th>\n",
       "      <td>0.030027</td>\n",
       "      <td>-0.013018</td>\n",
       "      <td>0.014034</td>\n",
       "      <td>0.053244</td>\n",
       "      <td>0.000094</td>\n",
       "      <td>0.018606</td>\n",
       "      <td>0.017825</td>\n",
       "      <td>0.043783</td>\n",
       "      <td>0.039989</td>\n",
       "      <td>0.022160</td>\n",
       "      <td>...</td>\n",
       "      <td>-0.034817</td>\n",
       "      <td>-0.050645</td>\n",
       "      <td>0.042752</td>\n",
       "      <td>-0.028074</td>\n",
       "      <td>-0.014875</td>\n",
       "      <td>-0.012554</td>\n",
       "      <td>0.018793</td>\n",
       "      <td>0.038520</td>\n",
       "      <td>-0.050688</td>\n",
       "      <td>0.029010</td>\n",
       "    </tr>\n",
       "    <tr>\n",
       "      <th>neural</th>\n",
       "      <td>-0.000493</td>\n",
       "      <td>-0.039977</td>\n",
       "      <td>0.020773</td>\n",
       "      <td>-0.019352</td>\n",
       "      <td>0.002148</td>\n",
       "      <td>-0.039686</td>\n",
       "      <td>-0.046782</td>\n",
       "      <td>0.023946</td>\n",
       "      <td>0.028829</td>\n",
       "      <td>0.034786</td>\n",
       "      <td>...</td>\n",
       "      <td>0.025748</td>\n",
       "      <td>0.018518</td>\n",
       "      <td>0.013404</td>\n",
       "      <td>-0.031155</td>\n",
       "      <td>-0.013245</td>\n",
       "      <td>-0.038053</td>\n",
       "      <td>-0.032669</td>\n",
       "      <td>-0.012383</td>\n",
       "      <td>-0.042692</td>\n",
       "      <td>-0.008998</td>\n",
       "    </tr>\n",
       "    <tr>\n",
       "      <th>and</th>\n",
       "      <td>0.033945</td>\n",
       "      <td>0.031775</td>\n",
       "      <td>0.040324</td>\n",
       "      <td>0.020284</td>\n",
       "      <td>-0.041136</td>\n",
       "      <td>-0.032880</td>\n",
       "      <td>0.014349</td>\n",
       "      <td>0.003366</td>\n",
       "      <td>0.024911</td>\n",
       "      <td>-0.039747</td>\n",
       "      <td>...</td>\n",
       "      <td>0.002081</td>\n",
       "      <td>-0.030681</td>\n",
       "      <td>0.049420</td>\n",
       "      <td>-0.001499</td>\n",
       "      <td>-0.031708</td>\n",
       "      <td>0.012737</td>\n",
       "      <td>-0.033358</td>\n",
       "      <td>0.027951</td>\n",
       "      <td>0.019079</td>\n",
       "      <td>-0.031530</td>\n",
       "    </tr>\n",
       "    <tr>\n",
       "      <th>as</th>\n",
       "      <td>-0.023164</td>\n",
       "      <td>0.021082</td>\n",
       "      <td>-0.043694</td>\n",
       "      <td>-0.016592</td>\n",
       "      <td>0.029788</td>\n",
       "      <td>-0.039470</td>\n",
       "      <td>-0.044566</td>\n",
       "      <td>-0.049052</td>\n",
       "      <td>-0.000571</td>\n",
       "      <td>-0.018558</td>\n",
       "      <td>...</td>\n",
       "      <td>-0.025940</td>\n",
       "      <td>-0.036442</td>\n",
       "      <td>-0.033984</td>\n",
       "      <td>-0.038409</td>\n",
       "      <td>-0.008912</td>\n",
       "      <td>0.045914</td>\n",
       "      <td>0.047436</td>\n",
       "      <td>0.012006</td>\n",
       "      <td>-0.027358</td>\n",
       "      <td>0.006428</td>\n",
       "    </tr>\n",
       "  </tbody>\n",
       "</table>\n",
       "<p>5 rows × 100 columns</p>\n",
       "</div>"
      ],
      "text/plain": [
       "                0         1         2         3         4         5   \\\n",
       "deep     -0.051325  0.015496 -0.001289 -0.000091  0.031098 -0.004511   \n",
       "networks  0.030027 -0.013018  0.014034  0.053244  0.000094  0.018606   \n",
       "neural   -0.000493 -0.039977  0.020773 -0.019352  0.002148 -0.039686   \n",
       "and       0.033945  0.031775  0.040324  0.020284 -0.041136 -0.032880   \n",
       "as       -0.023164  0.021082 -0.043694 -0.016592  0.029788 -0.039470   \n",
       "\n",
       "                6         7         8         9   ...        90        91  \\\n",
       "deep      0.048802  0.039863  0.038735 -0.011285  ... -0.021157 -0.006114   \n",
       "networks  0.017825  0.043783  0.039989  0.022160  ... -0.034817 -0.050645   \n",
       "neural   -0.046782  0.023946  0.028829  0.034786  ...  0.025748  0.018518   \n",
       "and       0.014349  0.003366  0.024911 -0.039747  ...  0.002081 -0.030681   \n",
       "as       -0.044566 -0.049052 -0.000571 -0.018558  ... -0.025940 -0.036442   \n",
       "\n",
       "                92        93        94        95        96        97  \\\n",
       "deep      0.014426 -0.025363 -0.001656 -0.007467  0.010676  0.054003   \n",
       "networks  0.042752 -0.028074 -0.014875 -0.012554  0.018793  0.038520   \n",
       "neural    0.013404 -0.031155 -0.013245 -0.038053 -0.032669 -0.012383   \n",
       "and       0.049420 -0.001499 -0.031708  0.012737 -0.033358  0.027951   \n",
       "as       -0.033984 -0.038409 -0.008912  0.045914  0.047436  0.012006   \n",
       "\n",
       "                98        99  \n",
       "deep     -0.010888  0.013069  \n",
       "networks -0.050688  0.029010  \n",
       "neural   -0.042692 -0.008998  \n",
       "and       0.019079 -0.031530  \n",
       "as       -0.027358  0.006428  \n",
       "\n",
       "[5 rows x 100 columns]"
      ]
     },
     "execution_count": 7,
     "metadata": {},
     "output_type": "execute_result"
    }
   ],
   "source": [
    "weights = cbow.get_weights()[0]\n",
    "weights = weights[1:]\n",
    "print(weights.shape)\n",
    "\n",
    "pd.DataFrame(weights, index=list(id2word.values())[1:]).head()"
   ]
  },
  {
   "cell_type": "code",
   "execution_count": 8,
   "metadata": {
    "colab": {
     "base_uri": "https://localhost:8080/"
    },
    "id": "UFs2IAn_LAYS",
    "outputId": "87ae1249-6a80-484f-b4a2-4d5f20734db7"
   },
   "outputs": [
    {
     "name": "stdout",
     "output_type": "stream",
     "text": [
      "(74, 74)\n"
     ]
    },
    {
     "data": {
      "text/plain": [
       "{'deep': ['design', 'medical', 'fields', 'image', 'transformers']}"
      ]
     },
     "execution_count": 8,
     "metadata": {},
     "output_type": "execute_result"
    }
   ],
   "source": [
    "from sklearn.metrics.pairwise import euclidean_distances\n",
    "\n",
    "distance_matrix = euclidean_distances(weights)\n",
    "print(distance_matrix.shape)\n",
    "\n",
    "similar_words = {search_term: [id2word[idx] for idx in distance_matrix[word2id[search_term]-1].argsort()[1:6]+1] \n",
    "                   for search_term in ['deep']}\n",
    "\n",
    "similar_words"
   ]
  },
  {
   "cell_type": "code",
   "execution_count": null,
   "metadata": {},
   "outputs": [],
   "source": []
  }
 ],
 "metadata": {
  "colab": {
   "collapsed_sections": [],
   "provenance": []
  },
  "kernelspec": {
   "display_name": "Python 3",
   "language": "python",
   "name": "python3"
  },
  "language_info": {
   "codemirror_mode": {
    "name": "ipython",
    "version": 3
   },
   "file_extension": ".py",
   "mimetype": "text/x-python",
   "name": "python",
   "nbconvert_exporter": "python",
   "pygments_lexer": "ipython3",
   "version": "3.8.8"
  },
  "vscode": {
   "interpreter": {
    "hash": "369f2c481f4da34e4445cda3fffd2e751bd1c4d706f27375911949ba6bb62e1c"
   }
  }
 },
 "nbformat": 4,
 "nbformat_minor": 1
}
